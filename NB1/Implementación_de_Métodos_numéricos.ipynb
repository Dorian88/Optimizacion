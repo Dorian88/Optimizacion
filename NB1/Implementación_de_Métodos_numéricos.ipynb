{
  "nbformat": 4,
  "nbformat_minor": 0,
  "metadata": {
    "colab": {
      "provenance": [],
      "authorship_tag": "ABX9TyOL7+96ATOLq737EZ1Hkj2C",
      "include_colab_link": true
    },
    "kernelspec": {
      "name": "python3",
      "display_name": "Python 3"
    },
    "language_info": {
      "name": "python"
    }
  },
  "cells": [
    {
      "cell_type": "markdown",
      "metadata": {
        "id": "view-in-github",
        "colab_type": "text"
      },
      "source": [
        "<a href=\"https://colab.research.google.com/github/Dorian88/Optimizacion/blob/main/NB1/Implementaci%C3%B3n_de_M%C3%A9todos_num%C3%A9ricos.ipynb\" target=\"_parent\"><img src=\"https://colab.research.google.com/assets/colab-badge.svg\" alt=\"Open In Colab\"/></a>"
      ]
    },
    {
      "cell_type": "markdown",
      "source": [
        "## Métodos Numericos en python\n",
        "\n",
        "Este notebook contiene la implementación de algunos métodos numéricos codificados en Python, también una pequeña una explicación de cada uno.\n",
        "\n",
        "Los métodos son los siguientes:\n",
        "\n",
        "\n",
        "\n",
        "1. Bisección\n",
        "2. Falsa Posición\n",
        "3. Razón Dorada\n",
        "4. Interpolación Cuadrática\n",
        "5. Newton\n",
        "6. Newton - Raphson\n",
        "7. Búsqueda Aleatoria\n",
        "\n"
      ],
      "metadata": {
        "id": "y3iBYE7ITi31"
      }
    },
    {
      "cell_type": "markdown",
      "source": [
        "# Método de Bisección\n",
        "\n",
        "Este método es un algoritmo cerrado para encontrar raices de una función continua en un intervalo \\([xl, xu]).\n",
        "\n",
        "### Raiz\n",
        "la aproximación a las raiz se determina calculando el punto medio del intervalo dado y se hace mediante la siguiente ecuación:\n",
        "\n",
        "$$\n",
        "xr = \\frac{xl + xu}{2}\n",
        "$$\n",
        "\n",
        "### Pasos del algoritmo\n",
        "1. Elegir un intervalo \\([xl, xu]) donde \\(f(xl)f(xu) < 0\\).\n",
        "2. Calcular el punto medio \\(xr\\).\n",
        "3. Evaluar \\(xr\\) y elegir el subintervalo correcto de la siguiente manera.<br>3.1. Si f(xl)f(xr) < 0 entonces se debe hacer xu = xr y volver al paso 2<br>\n",
        "3.2. Si f(xl)f(xr) > 0 entonces se debe hacer xl = xr y volver al paso 2<br>3.3 Si f(xl)f(xr) = 0 la raíz es igual a xr y termina el método\n",
        "4. Repetir hasta cumplir la tolerancia."
      ],
      "metadata": {
        "id": "LAd139SWWe0_"
      }
    },
    {
      "cell_type": "markdown",
      "source": [
        "# Código en Python"
      ],
      "metadata": {
        "id": "9eZ8Af5ddpx9"
      }
    },
    {
      "cell_type": "code",
      "execution_count": null,
      "metadata": {
        "colab": {
          "base_uri": "https://localhost:8080/"
        },
        "id": "_uNMOsFgThYG",
        "outputId": "30047be9-cf47-421f-f7dd-820bd17c5022"
      },
      "outputs": [
        {
          "output_type": "stream",
          "name": "stdout",
          "text": [
            "Ingrese la funcion f(x): 3*x**2 - 120*x + 100\n",
            "Ingrese el limite inferior del intervalo: -10\n",
            "Ingrese el limite superior del intervalo: 20\n",
            "iter a           b           c           f(a)        f(b)        f(c)        f(a)f(b)    f(a)f(c)    Error       \n",
            "1    -10.000000  20.000000   5.000000    1600.000000 -1100.000000-425.000000 -1760000.000000-680000.000000425.000000  \n",
            "2    -10.000000  5.000000    -2.500000   1600.000000 -425.000000 418.750000  -680000.000000670000.000000418.750000  \n",
            "3    -2.500000   5.000000    1.250000    418.750000  -425.000000 -45.312500  -177968.750000-18974.60937545.312500   \n",
            "4    -2.500000   1.250000    -0.625000   418.750000  -45.312500  176.171875  -18974.60937573771.972656176.171875  \n",
            "5    -0.625000   1.250000    0.312500    176.171875  -45.312500  62.792969   -7982.78808611062.35504262.792969   \n",
            "6    0.312500    1.250000    0.781250    62.792969   -45.312500  8.081055    -2845.306396507.433414  8.081055    \n",
            "7    0.781250    1.250000    1.015625    8.081055    -45.312500  -18.780518  -366.172791 -151.766390 18.780518   \n",
            "8    0.781250    1.015625    0.898438    8.081055    -18.780518  -5.390930   -151.766390 -43.564402  5.390930    \n",
            "9    0.781250    0.898438    0.839844    8.081055    -5.390930   1.334763    -43.564402  10.786289   1.334763    \n",
            "10   0.839844    0.898438    0.869141    1.334763    -5.390930   -2.030659   -7.195612   -2.710447   2.030659    \n",
            "11   0.839844    0.869141    0.854492    1.334763    -2.030659   -0.348592   -2.710447   -0.465287   0.348592    \n",
            "12   0.839844    0.854492    0.847168    1.334763    -0.348592   0.492924    -0.465287   0.657937    0.492924    \n",
            "13   0.847168    0.854492    0.850830    0.492924    -0.348592   0.072126    -0.171829   0.035553    0.072126    \n",
            "14   0.850830    0.854492    0.852661    0.072126    -0.348592   -0.138243   -0.025143   -0.009971   0.138243    \n",
            "15   0.850830    0.852661    0.851746    0.072126    -0.138243   -0.033061   -0.009971   -0.002385   0.033061    \n",
            "16   0.850830    0.851746    0.851288    0.072126    -0.033061   0.019532    -0.002385   0.001409    0.019532    \n",
            "17   0.851288    0.851746    0.851517    0.019532    -0.033061   -0.006765   -0.000646   -0.000132   0.006765    \n",
            "18   0.851288    0.851517    0.851402    0.019532    -0.006765   0.006384    -0.000132   0.000125    0.006384    \n",
            "19   0.851402    0.851517    0.851460    0.006384    -0.006765   -0.000191   -0.000043   -0.000001   0.000191    \n",
            "20   0.851402    0.851460    0.851431    0.006384    -0.000191   0.003097    -0.000001   0.000020    0.003097    \n",
            "21   0.851431    0.851460    0.851445    0.003097    -0.000191   0.001453    -0.000001   0.000004    0.001453    \n",
            "22   0.851445    0.851460    0.851452    0.001453    -0.000191   0.000631    -0.000000   0.000001    0.000631    \n",
            "23   0.851452    0.851460    0.851456    0.000631    -0.000191   0.000220    -0.000000   0.000000    0.000220    \n",
            "24   0.851456    0.851460    0.851458    0.000220    -0.000191   0.000015    -0.000000   0.000000    0.000015    \n",
            "25   0.851458    0.851460    0.851459    0.000015    -0.000191   -0.000088   -0.000000   -0.000000   0.000088    \n",
            "\n",
            "raiz aproximada:  0.8514586091041565\n"
          ]
        }
      ],
      "source": [
        "import matplotlib.pyplot as plt\n",
        "import numpy as np\n",
        "\n",
        "#Definir la funcion\n",
        "def crearFuncion(expr):\n",
        "    def f(x):\n",
        "        return eval(expr, {\"__builtins__\": {}}, {\"x\": x, \"np\": np})\n",
        "\n",
        "    return f\n",
        "\n",
        "#Metodo de la biseccion\n",
        "def biseccion(f, a, b, tol = 1e-6, max_iter = 100):\n",
        "\n",
        "    if f(a)*f(b) >= 0:\n",
        "        raise ValueError(\"La funcion no cambia de signo en el intervalo dado\")\n",
        "\n",
        "    # Listas para guardar datos de la grafica\n",
        "    iteraciones = []\n",
        "    errores = []\n",
        "    aproximaciones = []\n",
        "\n",
        "    # encabezado de la tabla\n",
        "    print(f\"{'iter':<5}{'a':<12}{'b':<12}{'c':<12}{'f(a)':<12}{'f(b)':<12}{'f(c)':<12}{'f(a)f(b)':<12}{'f(a)f(c)':<12}{'Error':<12}\")\n",
        "\n",
        "    for i in range (max_iter):\n",
        "        c = (a + b) / 2 #Punto medio\n",
        "        fa, fb, fc = f(a), f(b), f(c)\n",
        "        error = abs(fc)\n",
        "\n",
        "        # Guardar datos para graficar\n",
        "        iteraciones.append(i+1)\n",
        "        errores.append(error)\n",
        "        aproximaciones.append(c)\n",
        "\n",
        "        # Muestra la fila de la tabla\n",
        "        print(f\"{i+1:<5}{a:<12.6f}{b:<12.6f}{c:<12.6f}{fa:<12.6f}{fb:<12.6f}{fc:<12.6f}{fa*fb:<12.6f}{fa*fc:<12.6f}{error:<12.6f}\")\n",
        "\n",
        "        #Si se encuentra la raiz o se alcanza la tolerancia\n",
        "        if error < tol or (b - a) / 2 < tol:\n",
        "            print (f\"\\nraiz aproximada: \", c)\n",
        "            return c, iteraciones, errores, aproximaciones\n",
        "\n",
        "        # Elegir el nuevo intervalo\n",
        "        if f(a)*fc < 0:\n",
        "            b = c\n",
        "        else:\n",
        "            a = c\n",
        "\n",
        "    print(\"\\nSe alcanzo el numero maximo de iteraciones\")\n",
        "    return (a + b) / 2\n",
        "\n",
        "#Se llama el metodo\n",
        "expr = input(\"Ingrese la funcion f(x): \")\n",
        "f = crearFuncion(expr)\n",
        "\n",
        "a = float(input(\"Ingrese el limite inferior del intervalo: \"))\n",
        "b = float(input(\"Ingrese el limite superior del intervalo: \"))\n",
        "\n",
        "raiz, iteraciones, errores, aproximaciones = biseccion(f, a, b, tol = 1e-6)"
      ]
    },
    {
      "cell_type": "markdown",
      "source": [
        "Estas son las gráficas de la función y del error"
      ],
      "metadata": {
        "id": "KNiHs8eCeSLY"
      }
    },
    {
      "cell_type": "code",
      "source": [
        "#*****************************\n",
        "# Graficas en la misma ventana\n",
        "fig, (ax1, ax2) = plt.subplots(2, 1, figsize = (8, 10))\n",
        "\n",
        "#**********************\n",
        "# Grafica de la funcion\n",
        "#**********************\n",
        "\n",
        "x = np.linspace(a - 2, b + 2)\n",
        "y = f(x)\n",
        "\n",
        "ax1.plot(x, y, label = \"f(x)\")\n",
        "ax1.axhline(0, color = \"black\", linestyle = \"-\")\n",
        "ax1.scatter(raiz, f(raiz), color = \"red\", label = f\"Raiz Aprox = {raiz:.6f}\")\n",
        "ax1.text(raiz, f(raiz), f\"{raiz:.6}\", color = \"black\", fontsize = 10, ha = \"left\", va = \"bottom\")\n",
        "ax1.set_title(\"Funcion f(x) y Aproximacion de la raiz\")\n",
        "ax1.set_xlabel(\"x\")\n",
        "ax1.set_ylabel(\"f(x)\")\n",
        "ax1.legend()\n",
        "\n",
        "#******************\n",
        "# Grafica del error\n",
        "#******************\n",
        "ax2.plot(iteraciones, errores, marker = \"o\", linestyle = \"-\", color = \"green\")\n",
        "ax2.set_yscale(\"log\") # Escala logaritmica para ver la convergencia\n",
        "ax2.set_title(\"Convergencia del error |f(c)| en cada iteracion\")\n",
        "ax2.set_xlabel(\"Iteraciones\")\n",
        "ax2.set_ylabel(\"Error\")\n",
        "\n",
        "plt.tight_layout()\n",
        "plt.show()"
      ],
      "metadata": {
        "colab": {
          "base_uri": "https://localhost:8080/",
          "height": 1000
        },
        "id": "UZF9nGX_eaSz",
        "outputId": "2612dd9f-8282-42ae-8cb5-db3820840b74"
      },
      "execution_count": null,
      "outputs": [
        {
          "output_type": "display_data",
          "data": {
            "text/plain": [
              "<Figure size 800x1000 with 2 Axes>"
            ],
            "image/png": "[encoded data removed]"
          },
          "metadata": {}
        }
      ]
    },
    {
      "cell_type": "markdown",
      "source": [
        "# Método de la Falsa Posición\n",
        "\n",
        "Es una variante del método de Bisección que usa la intersección de la recta secante con el eje x\n",
        "\n",
        "En este caso la raiz se calcula de la siguiente manera:\n",
        "\n",
        "$$\n",
        "x_{r} = x_{u}-\\frac{f(x_{u})(x_{l}-x_{u})}{f(x_{u}-x_{l})}\n",
        "$$\n",
        "\n",
        "### Pasos del algoritmo\n",
        "1. Elegir un intervalo [xl, xu] donde f(xl)f(xu) < 0.\n",
        "2. Calcular el punto medio xr.\n",
        "3. Evaluar xr y elegir el subintervalo correcto de la siguiente manera.<br>3.1. Si f(xl)f(xr) < 0 entonces se debe hacer xu = xr y volver al paso 2<br>\n",
        "3.2. Si f(xl)f(xr) > 0 entonces se debe hacer xl = xr y volver al paso 2<br>3.3 Si f(xr) = 0 la raíz es igual a xr y termina el método\n",
        "4. Repetir hasta cumplir la tolerancia.\n"
      ],
      "metadata": {
        "id": "vEddoRmRgnO9"
      }
    },
    {
      "cell_type": "markdown",
      "source": [
        "# Código en Python"
      ],
      "metadata": {
        "id": "WvPauBz4scb6"
      }
    },
    {
      "cell_type": "code",
      "source": [
        "import math\n",
        "import matplotlib.pyplot as plt\n",
        "import numpy as np\n",
        "\n",
        "# Definir la funcion\n",
        "def crearFuncion(expr):\n",
        "    contexto = {k: getattr(math, k) for k in dir(math) if not k.startswith(\"__\")}\n",
        "    def f(x):\n",
        "        return eval(expr, {\"__builtins__\": {}}, {**contexto, \"x\": x})\n",
        "\n",
        "    return f\n",
        "\n",
        "#Metodo de la falsa posicion\n",
        "def falsaPosicion(f, xl, xu, tol = 1e-6, max_iter = 100):\n",
        "    if f(xl) * f(xu) > 0:\n",
        "        raise ValueError(\"La funcion no cambia de signo en el intervalo dado\")\n",
        "\n",
        "    xrAnterior = None # Variable para calcular el error\n",
        "    raices = []\n",
        "    errores = []\n",
        "\n",
        "    # Encabezado de la tabla\n",
        "    print(f\"{'Iter':<10}{'xl':<12}{'xu':<12}{'xr':<12}{'f(xl)':<12}{'f(xu)':<12}{'f(xr)':<12}{'f(xl)f(r)':<12}{'Error':<12}\")\n",
        "\n",
        "    for i in range(1, max_iter + 1):\n",
        "        #Ecuacion de la falsa posicion\n",
        "        xr = (xl * f(xu) - xu * f(xl)) / (f(xu) - f(xl))\n",
        "\n",
        "        #Calcular el valor de la funcion en xr\n",
        "        fxr = f(xr)\n",
        "\n",
        "        # Calcular el error\n",
        "        if xrAnterior is None:\n",
        "            error = None #No hay error en la primera iteracion\n",
        "        else:\n",
        "            error = abs(xr - xrAnterior)\n",
        "\n",
        "        # Guarda los datos para graficar\n",
        "        raices.append(xr)\n",
        "        errores.append(error if error is not None else 0)\n",
        "\n",
        "        # Imprime la fila de la tabla\n",
        "        print(f\"{i:<10}{xl:<12.6f}{xu:<12.6f}{xr:<12.6f}{f(xl):<12.6f}{f(xu):<12.6f}{fxr:<12.6f}{(f(xl) * f(xu)):<15.6f}{'' if error is None else f'{error:.6f}'}\")\n",
        "\n",
        "        #Verificar la tolerancia\n",
        "        if abs(fxr) < tol:\n",
        "            return xr, raices, errores\n",
        "\n",
        "        #Actualizar los xl o xu\n",
        "        if f(xl) * fxr < 0:\n",
        "            xu = xr\n",
        "        else:\n",
        "            xl = xr\n",
        "\n",
        "        xrAnterior = xr\n",
        "\n",
        "    return xr, raices, errores\n",
        "\n",
        "expr = input(\"Ingrese la funcion (Ejemplo: x**2 - x - 2, o use funciones de math como sin(x)): \")\n",
        "xl = float(input(\"Ingrese el valor de xl: \"))\n",
        "xu = float(input(\"Ingrese el valor de xu: \"))\n",
        "\n",
        "f= crearFuncion(expr)\n",
        "\n",
        "raiz, raices, errores = falsaPosicion(f, xl, xu)\n",
        "\n",
        "print(f\"\\nLa raiz aproximada es: {raiz:.6f}\")"
      ],
      "metadata": {
        "id": "5Ky7ORq3s286"
      },
      "execution_count": null,
      "outputs": []
    },
    {
      "cell_type": "markdown",
      "source": [
        "Estas son las gráficas de la función y del error"
      ],
      "metadata": {
        "id": "Kbe1mW47tJvO"
      }
    },
    {
      "cell_type": "code",
      "source": [
        "#--------------------\n",
        "#Graficas\n",
        "#--------------------\n",
        "fig, (ax1, ax2) = plt.subplots(2, 1, figsize = (8, 8))\n",
        "\n",
        "#Grafica de la funcion\n",
        "xVals = np.linspace(xl - 1, xu + 1, 400)\n",
        "yVals = [f(x) for x in xVals]\n",
        "ax1.plot(xVals, yVals, label = \"f(x)\")\n",
        "ax1.axhline(0, color = \"black\", linewidth = 0.8)\n",
        "ax1.scatter(raices, [f(r) for r in raices], color = \"red\", label = \"Aproximaciones\")\n",
        "ax1.scatter(raiz, f(raiz), color = \"green\", s = 100, marker = \"*\", label = f\"Raiz ≈ {raiz:.6f}\")\n",
        "ax1.annotate(f\"{raiz:.6f}\", xy=(raiz, f(raiz)), xytext=(raiz + 0.5, f(raiz)),\n",
        "             arrowprops=dict(facecolor = 'green', shrink = 0.05), fontsize = 9, color = \"green\")\n",
        "ax1.set_title(\"Grafica de la Funcion\")\n",
        "ax1.legend()\n",
        "#ax1.grid(True)\n",
        "\n",
        "# Grafica del error\n",
        "ax2.plot(range(1, len(errores) + 1), errores, marker = \"o\")\n",
        "ax2.set_title(\"Grafica del Error\")\n",
        "ax2.set_xlabel(\"Iteracion\")\n",
        "ax2.set_ylabel(\"Error\")\n",
        "#ax2.grid(True)\n",
        "\n",
        "plt.tight_layout()\n",
        "plt.show()"
      ],
      "metadata": {
        "id": "mW2YRZXNt87R"
      },
      "execution_count": null,
      "outputs": []
    },
    {
      "cell_type": "markdown",
      "source": [
        "# Método de la Razón Dorada\n",
        "\n",
        "Es un método de optimización unidimensional que busca el valor máximo o mínimo de una función dentro de un intervalo .\n",
        "\n",
        "En este método se usa el valor de la razón dorada que se calcula de la siguiente manera:\n",
        "\n",
        "$$\n",
        "\\phi = \\frac{(1 + \\sqrt{5})}{2}=1.618\n",
        "$$\n",
        "<br>\n",
        "Los pasos a seguir para ejecutar el método son los siguientes:\n",
        "<br>\n",
        "1. Calcular los puntos interiores usando la razón dorada.\n",
        "2. Se evalua la función en esos puntos.\n",
        "3. Se actualiza el intervalo de busqueda.\n",
        "4. Repetir hasta que cumplir la tolerancia."
      ],
      "metadata": {
        "id": "_K5vbheOwkJe"
      }
    },
    {
      "cell_type": "markdown",
      "source": [
        "# Código en Python"
      ],
      "metadata": {
        "id": "kkRyATtt-kGI"
      }
    },
    {
      "cell_type": "code",
      "source": [
        "import math\n",
        "import matplotlib.pyplot as plt\n",
        "import numpy as np\n",
        "\n",
        "def razonDorada(f, xl, xu, tol = 1e-6, maxIter = 100, mode = \"min\"):\n",
        "    phi = 0.618 # Razon Dorada\n",
        "\n",
        "    errores = [] # Lista para graficar el error\n",
        "    puntosX = [] # Puntos candidatos de cada iteracion\n",
        "    puntosY = []\n",
        "\n",
        "    # Encabezado de la tabla\n",
        "    print(f\"{'Iter':<5}{'xl':<12}{'xu':<12}{'d':<12}{'x1':<12}{'x2':<12}{'f(x1)':<12}{'f(x2)':<12}{'Error':<12}\")\n",
        "\n",
        "    for i in range(1, maxIter + 1):\n",
        "        # Cálculo de los puntos en cada iteración\n",
        "        d = phi * (xu - xl)\n",
        "        x1 = xl + d\n",
        "        x2 = xu - d\n",
        "\n",
        "        f1, f2 = f(x1), f(x2)\n",
        "        error = abs(x2 - x1)\n",
        "\n",
        "        # Guardar datos para graficar\n",
        "        xMid = (x1 + x2)/2\n",
        "        puntosX.append(xMid)\n",
        "        puntosY.append(f(xMid))\n",
        "        errores.append(error)\n",
        "\n",
        "        # Mostrar fila de la tabla\n",
        "        print(f\"{i:<5}{xl:<12.6}{xu:<12.6}{d:<12.6}{x1:<12.6}{x2:<12.6}{f1:<12.6}{f2:<12.6}{error:<12.6}\")\n",
        "\n",
        "        if error < tol:\n",
        "            break\n",
        "\n",
        "        # Actualizacion segun minimo o maximo\n",
        "        if mode == \"max\": # Busqueda del minimo\n",
        "            if f2 > f1:\n",
        "                xu = x1\n",
        "            else:\n",
        "                xl = x2\n",
        "        else: # Busqueda del minimo\n",
        "            if f2 < f1:\n",
        "                xu = x1\n",
        "            else:\n",
        "                xu = x1\n",
        "\n",
        "    x_opt = (xl + xu)/2\n",
        "    f_opt = f(x_opt)\n",
        "\n",
        "    return x_opt, f_opt, errores, puntosX, puntosY\n",
        "\n",
        "#====================\n",
        "# Programa Principal\n",
        "#====================\n",
        "if __name__ == \"__main__\":\n",
        "    func_str = input(\"Ingrese la funcion en terminos de x (Ej: 2*sin(x) - (x**2/10): \")\n",
        "\n",
        "    # Se crea la funcion evaluable con acceso directo a math\n",
        "    def f(x):\n",
        "        return eval(func_str, {\"x\":x, **math.__dict__})\n",
        "\n",
        "    # Intervalo de Búsqueda\n",
        "    xl = float(input(\"Ingrese el limite inferior del intervalo: \"))\n",
        "    xu = float(input(\"Ingrese el limite superior del intervalo: \"))\n",
        "    mode = input(\"Desea buscar el 'min' (minimo) o 'max' (maximo): \").strip().lower() # Modo de busqueda\n",
        "\n",
        "    # Ejecución del método\n",
        "    x_opt, f_opt, errores, puntosX, puntosY = razonDorada(f, xl, xu, mode = mode)\n",
        "\n",
        "    print(\" \\n======RESULTADO FINAL======\")\n",
        "    if mode == \"min\":\n",
        "        print(f\"Minimo aproximado en x ≈ {x_opt}, f(x) ≈ {f_opt}\")\n",
        "    else:\n",
        "        print(f\"Maximo aproximado en x ≈ {x_opt}, f(x) ≈ {f_opt}\")\n"
      ],
      "metadata": {
        "id": "n4UGa9t6-qKJ"
      },
      "execution_count": null,
      "outputs": []
    },
    {
      "cell_type": "markdown",
      "source": [
        "Las graficas de la función y del error se muestran a continuación"
      ],
      "metadata": {
        "id": "dHSt_HHa-ydT"
      }
    },
    {
      "cell_type": "code",
      "source": [
        "#*********\n",
        "    # Graficas\n",
        "    #*********\n",
        "    fig, axs = plt.subplots(2, 1, figsize = (8, 10))\n",
        "\n",
        "    # Grafica de la funcion\n",
        "    margen = (xu - xl) * 2\n",
        "    X = np.linspace(xl - margen, xu + margen, 800)\n",
        "    Y = [f(x) for x in X]\n",
        "\n",
        "    axs[0].plot(X, Y, label = \"f(x)\")\n",
        "    axs[0].scatter(x_opt, f_opt, color=\"green\", marker=\"*\", s=200,\n",
        "                   zorder=5, label=f\"Optimo ≈ {x_opt:.4f}\")\n",
        "    axs[0].annotate(f\"{f_opt:.4f}\", (x_opt, f_opt), textcoords=\"offset points\",\n",
        "                    xytext=(0, 10), ha=\"center\", color=\"green\")\n",
        "    #axs[0].scatter(x_opt, f_opt, color = \"red\", zorder = 5, label=f\"Optimo ({x_opt:.4f}, {f_opt:.4f})\")\n",
        "    #axs[0].annotate(f\"{f_opt:.4f}\", (x_opt, f_opt), textcoords=\"offset points\", xytext=(0, 10), ha=\"center\", color=\"red\")\n",
        "    axs[0].set_title(\"Funcion\")\n",
        "    axs[0].set_xlabel(\"x\")\n",
        "    axs[0].set_ylabel(\"f(x)\")\n",
        "    axs[0].legend()\n",
        "\n",
        "    # Grafica del error\n",
        "    axs[1].plot(range(1, len(errores) + 1), errores, marker = \"o\")\n",
        "    axs[1].set_title(\"Error\")\n",
        "    axs[1].set_xlabel(\"Iteracion\")\n",
        "    axs[1].set_ylabel(\"error\")\n",
        "\n",
        "    plt.tight_layout()\n",
        "    plt.show()"
      ],
      "metadata": {
        "id": "zt8gZx_r-9pt"
      },
      "execution_count": null,
      "outputs": []
    },
    {
      "cell_type": "markdown",
      "source": [
        "# Interpolación Cuadrática\n",
        "\n",
        "Se aproxima el óptimo de una función ajustando una parábola a tres puntos y buscando el vértice.\n",
        "\n",
        "El valor máximo del ajuste cuadrático para los valores iniciales esta dado por la siguiente ecuación:\n",
        "\n",
        "$$\n",
        " x_{3} = \\frac{f(x_{0})(x_{1}^{2} - x_{2}^{2}) + f(x_{1})(x_{2}^{2} - x_{0}^{2}) + f(x_{2})(x_{0}^{2} - x_{1}^{2})}{2(f(x_{0})(x_{1} - x_{2}) + f(x_{1})(x_{2} - x_{0}) + f(x_{2})(x_{0} - x_{1}))}\n",
        "$$"
      ],
      "metadata": {
        "id": "i1Caj5X21qOv"
      }
    },
    {
      "cell_type": "markdown",
      "source": [
        "# Código en Python"
      ],
      "metadata": {
        "id": "K01U2zdJ70K5"
      }
    },
    {
      "cell_type": "code",
      "source": [
        "import math\n",
        "import matplotlib.pyplot as plt\n",
        "import numpy as np\n",
        "\n",
        "#Evaluador de la funcion ingresada\n",
        "def crearFuncion(expr):\n",
        "    # Diccionario con todas las funciones y constantes de math\n",
        "    contexto = {k: getattr(math, k) for k in dir(math) if not k.startswith(\"__\")}\n",
        "    def f(x):\n",
        "        return eval(expr, {\"__builtins__\": {}}, {**contexto, \"x\":x})\n",
        "    return f\n",
        "\n",
        "def interpolacionCuadratica(f, x0, x1, x2, objetivo = \"max\", tol = 1e-6, maxIter = 100):\n",
        "\n",
        "    print(f\"{'iter':<6}{'x0':<10}{'f(x0)':<12}{'x1':<10}{'f(x1)':<12}\"\n",
        "          f\"{'x2':<10}{'f(x2)':<12}{'x3':<10}{'f(x3)':<12}\"\n",
        "          f\"{'error 1':<12}{'error 2':<12}{'error 3':<12}\")\n",
        "\n",
        "    errores = []\n",
        "    aproximaciones = [x0, x1, x2]\n",
        "\n",
        "    for it in range(1, maxIter + 1):\n",
        "        f0, f1, f2 = f(x0), f(x1), f(x2)\n",
        "\n",
        "        numerador = (f0 * (x1**2 - x2**2) +\n",
        "                     f1 * (x2**2 - x0**2) +\n",
        "                     f2 * (x0**2 - x1**2))\n",
        "        denominador = (2 * (f0 * (x1 - x2) +\n",
        "                            f1 * (x2 - x0) +\n",
        "                            f2 * (x0 - x1)))\n",
        "\n",
        "        if denominador == 0:\n",
        "            print(\"El denominador es cero, no se puede continuar\")\n",
        "            return None, None\n",
        "\n",
        "        x3 = numerador / denominador\n",
        "        f3 = f(x3)\n",
        "\n",
        "        # Calculo de errores\n",
        "        e1 = abs(x3 - x0)\n",
        "        e2 = abs(x3 - x1)\n",
        "        e3 = abs(x3 - x2)\n",
        "        maxError = max(e1, e2, e3)\n",
        "\n",
        "        errores.append(maxError)\n",
        "        aproximaciones.append(x3)\n",
        "\n",
        "        # Muestra la fila de la tabla\n",
        "        print(f\"{it:<6}{x0:<10.6f}{f0:<12.6f}{x1:<10.6f}{f1:<12.6f}\"\n",
        "              f\"{x2:<10.6f}{f2:<12.6f}{x3:<10.6f}{f3:<12.6f}\"\n",
        "              f\"{e1:<12.6f}{e2:<12.6f}{e3:<12.6f}\")\n",
        "\n",
        "        # Verifica la convergencia\n",
        "        if maxError < tol:\n",
        "            return x3, f3, errores, aproximaciones\n",
        "\n",
        "        # Actualiza los puntos segun objetivo (max o min)\n",
        "        if objetivo == \"max\":\n",
        "            if f3 > f1:\n",
        "                if x3 > x1:\n",
        "                    x0 = x1\n",
        "                    x1 = x3\n",
        "                else:\n",
        "                    x2 = x1\n",
        "                    x1 = x3\n",
        "            else:\n",
        "                if x3 > x1:\n",
        "                    x2 = x3\n",
        "                else:\n",
        "                    x0 = x3\n",
        "        else: # Objetivo = \"min\"\n",
        "            if f3 < f1:\n",
        "                if x3 > x1:\n",
        "                    x0 = x1\n",
        "                    x1 = x3\n",
        "                else:\n",
        "                    x2 = x1\n",
        "                    x1 = x3\n",
        "            else:\n",
        "                if x3 > x1:\n",
        "                    x2 = x3\n",
        "                else:\n",
        "                    x0 = x3\n",
        "\n",
        "    return x1, f(x1), errores, aproximaciones"
      ],
      "metadata": {
        "id": "9ofR0PdF7zYa"
      },
      "execution_count": null,
      "outputs": []
    },
    {
      "cell_type": "markdown",
      "source": [
        "Código para las gráficas"
      ],
      "metadata": {
        "id": "umAS3_TL8Ztc"
      }
    },
    {
      "cell_type": "code",
      "source": [
        "def graficar(f, aproximaciones, errores, xOpt, fOpt):\n",
        "    fig, axs = plt.subplots(2, 1, figsize = (8, 8))\n",
        "\n",
        "    # Definir rango dinamico segun las aproximaciones\n",
        "    xmin, xmax = min(aproximaciones), max(aproximaciones)\n",
        "    margen = 0.2 * (xmax - xmin if xmax != min else 1)\n",
        "    xs = np.linspace(xmin - margen, xmax + margen, 400)\n",
        "    ys = [f(x) for x in xs]\n",
        "\n",
        "    # Grafica de la funcion\n",
        "    axs[0].plot(xs, ys, label = \"f(x)\")\n",
        "    axs[0].axhline(0, color = \"black\", linewidth = 0.8)\n",
        "    axs[0].scatter(aproximaciones, [f(x) for x in aproximaciones], color = \"red\", label = \"Aproximaciones\")\n",
        "    axs[0].scatter(xOpt, fOpt, color = \"green\", marker = \"*\", s = 200, label = f\"Optimo ≈ {xOpt:.6f}\")\n",
        "    axs[0].set_title(\"Funcion\")\n",
        "    axs[0].legend()\n",
        "\n",
        "    # Grafica del error\n",
        "    axs[1].plot(range(1, len(errores) + 1), errores, marker = \"o\")\n",
        "    axs[1].set_title(\"Error\")\n",
        "    axs[1].set_xlabel(\"Iteracion\")\n",
        "    axs[1].set_ylabel(\"Error maximo\")\n",
        "\n",
        "    plt.tight_layout()\n",
        "    plt.show()"
      ],
      "metadata": {
        "id": "6Atbqpt88jQy"
      },
      "execution_count": null,
      "outputs": []
    },
    {
      "cell_type": "code",
      "source": [
        "# ******************\n",
        "# Programa principal\n",
        "# ******************\n",
        "if __name__ == \"__main__\":\n",
        "    # entrada de la funcion\n",
        "    expr = input(\"Ingrese la funcion enterminos de x (ejemplo: 2*sin(x) - x**2/10: \")\n",
        "    f = crearFuncion(expr)\n",
        "\n",
        "    # Pregunta si busca maximo o minimo\n",
        "    objetivo = input(\"Desea hallar el minimo (min) o el maximo (max)?: \").strip().lower()\n",
        "\n",
        "    # Puntos iniciales\n",
        "    x0 = float(input(\"Ingrese x0: \"))\n",
        "    x1 = float(input(\"Ingrese x1: \"))\n",
        "    x2 = float(input(\"Ingrese x2: \"))\n",
        "\n",
        "    # ejecuta el metodo\n",
        "    xOpt, fOpt, errores, aproximaciones = interpolacionCuadratica(f, x0, x1, x2, objetivo = objetivo)\n",
        "\n",
        "    print(f\"\\nEl optimo aproximado en x = {xOpt:.6f}\")\n",
        "    print(f\"f(x) = {fOpt:.6f}\")\n",
        "\n",
        "    graficar(f, aproximaciones, errores, xOpt, fOpt)"
      ],
      "metadata": {
        "id": "TbIQ_rAt8wz3"
      },
      "execution_count": null,
      "outputs": []
    },
    {
      "cell_type": "markdown",
      "source": [
        "# Método de Newton\n",
        "\n",
        "Este método usa las derivadas para hallar las raices de una función\n",
        "\n",
        "La ecuación es la siguiente:\n",
        "\n",
        "$$\n",
        "x_{i+1} = x_{i} - \\frac{f(x_{i})}{f'(x_{i})}\n",
        "$$"
      ],
      "metadata": {
        "id": "uv9shLgx9HUw"
      }
    },
    {
      "cell_type": "markdown",
      "source": [
        "# Código en Python"
      ],
      "metadata": {
        "id": "LYUU5NPa_w4R"
      }
    },
    {
      "cell_type": "code",
      "source": [
        "import math\n",
        "import numpy as np\n",
        "import matplotlib.pyplot as plt\n",
        "\n",
        "def crearFuncion(expr):\n",
        "    contexto = {k: getattr(math, k) for k in dir(math) if not k.startswith(\"__\")}\n",
        "    def f(x):\n",
        "        return eval(expr, {\"__builtins__\": {}}, {**contexto, \"x\": x})\n",
        "    return f\n",
        "\n",
        "# *****************\n",
        "# Derivada numerica\n",
        "# *****************\n",
        "def derivada(f, x, h = 1e-6):\n",
        "    return (f(x + h) - f(x - h)) / (2*h)\n",
        "\n",
        "# ****************\n",
        "# Metodo de Newton\n",
        "# ****************\n",
        "def metodoNewton(f, x0, tol=1e-6, maxIter = 50):\n",
        "    print(\"{:<10}{:<15}{:<15}{:<15}{:<15}\".format(\"iter\", \"x\", \"f(x)\", \"f'(x)\", \"Error\"))\n",
        "    errores, aproximaciones = [], [x0]\n",
        "\n",
        "    for i in range(maxIter):\n",
        "        fx = f(x0)\n",
        "        fpx = derivada(f, x0)\n",
        "        if fpx == 0:\n",
        "            print(\"Derivada nula. No se puede continuar.\")\n",
        "            break\n",
        "        x1 = x0 - (fx/fpx)\n",
        "        error = abs(x1 - x0)\n",
        "        errores.append(error)\n",
        "        print(\"{:<10}{:<15.6f}{:<15.6f}{:<15.6f}{:<15.6f}\".format(i + 1, x0, fx, fpx, error))\n",
        "        aproximaciones.append(x1)\n",
        "\n",
        "        if error < tol:\n",
        "            break\n",
        "        x0 = x1\n",
        "\n",
        "    return aproximaciones, errores\n"
      ],
      "metadata": {
        "id": "Pc1yDJKy_1SS"
      },
      "execution_count": null,
      "outputs": []
    },
    {
      "cell_type": "markdown",
      "source": [
        "Este es el código para las gráficas de la función y el error"
      ],
      "metadata": {
        "id": "TGeapVUi_7sS"
      }
    },
    {
      "cell_type": "code",
      "source": [
        "def graficar(f, aproximaciones, errores):\n",
        "    fig, axs = plt.subplots(2, 1, figsize=(8, 8))\n",
        "\n",
        "    # Grafica de la funcion\n",
        "    xVals = np.linspace(-10, 20, 400)\n",
        "    yVals = [f(x) for x in xVals]\n",
        "    axs[0].plot(xVals, yVals, label = \"f(x)\")\n",
        "    axs[0].axhline(0, color = \"black\", linewidth = 0.8)\n",
        "    axs[0].scatter(aproximaciones, [f(x) for x in aproximaciones], color = \"red\", label = \"Aproximaciones\")\n",
        "    xOpt = aproximaciones[-1]\n",
        "    yOpt = f(xOpt)\n",
        "    axs[0].scatter([xOpt], [yOpt], color=\"green\", s=100, zorder=5, label=\"Óptimo\")\n",
        "    axs[0].annotate(f\"({xOpt:.4f}, {yOpt:.4f})\", (xOpt, yOpt),\n",
        "                    textcoords=\"offset points\", xytext=(10, 10), fontsize=9, color=\"green\")\n",
        "    axs[0].set_title(\"Metodo de Newton\")\n",
        "    axs[0].legend()\n",
        "\n",
        "    # Grafica del error\n",
        "    axs[1].plot(range(1, len(errores)+1), errores, \"ro-\")\n",
        "    axs[1].set_title(\"Errores\")\n",
        "    axs[1].set_xlabel(\"Iteracion\")\n",
        "    axs[1].set_ylabel(\"Error\")\n",
        "\n",
        "    plt.tight_layout()\n",
        "    plt.show()"
      ],
      "metadata": {
        "id": "1R7qRP0AAEeQ"
      },
      "execution_count": null,
      "outputs": []
    },
    {
      "cell_type": "code",
      "source": [
        "# *****************\n",
        "# Funcion principal\n",
        "# *****************\n",
        "if __name__==\"__main__\":\n",
        "    expr = input(\"Ingrese la funcion (Ejemplo: x**3 - 2*x - 5 o 2*sin(x) - x**2/10): \")\n",
        "    f = crearFuncion(expr)\n",
        "    x0 = float(input(\"Ingrese el valor inicial x0: \"))\n",
        "\n",
        "    aproximaciones, errores = metodoNewton(f, x0)\n",
        "    graficar(f, aproximaciones, errores)"
      ],
      "metadata": {
        "id": "GUyvTNmhAWct"
      },
      "execution_count": null,
      "outputs": []
    },
    {
      "cell_type": "markdown",
      "source": [
        "# Método de Newton - Raphson\n",
        "\n",
        "Este método usa la primera y la segunda derivada para encontrar el óptimo de una función.\n",
        "\n",
        "La ecuación para cumplir este próposito es la siguiente:\n",
        "\n",
        "$$\n",
        "x_{i+1} = x_{i} - \\frac{f'(x_{i})}{f''(x_{i})}\n",
        "$$\n",
        "\n"
      ],
      "metadata": {
        "id": "qh6PRjrVAkAx"
      }
    },
    {
      "cell_type": "markdown",
      "source": [
        "# Código en Pyhton"
      ],
      "metadata": {
        "id": "1rEJIaU5BhoW"
      }
    },
    {
      "cell_type": "code",
      "source": [
        "import math\n",
        "import matplotlib.pyplot as plt\n",
        "import numpy as np\n",
        "\n",
        "# ***********************\n",
        "# Evaluador de la funcion\n",
        "# ***********************\n",
        "def crearFuncion(expr):\n",
        "    contexto = {k: getattr(math, k) for k in dir(math) if not k.startswith(\"__\")}\n",
        "    def f(x):\n",
        "        return eval(expr, {\"__builtins__\":{}}, {**contexto, \"x\": x})\n",
        "    return f\n",
        "\n",
        "# *******************\n",
        "# Derivadas numericas\n",
        "# *******************\n",
        "def derivada(f, x, h = 1e-6):\n",
        "    return (f(x + h) - f(x - h))/(2*h)\n",
        "\n",
        "def segundaDerivada(f, x, h = 1e-6):\n",
        "    return (f(x + h) - 2*f(x) + f(x-h)) / (h**2)\n",
        "\n",
        "# ************************\n",
        "# Metodo de Newton-Raphson\n",
        "# ************************\n",
        "def metodoNewtonRaphson(f, x0, tol = 1e-6, maxIter = 50):\n",
        "    print(\"{:<10}{:<15}{:<15}{:<15}{:<15}{:<15}\".format(\"Iter\", \"x\", \"f(x)\", \"f'(x)\", \"f''(x)\", \"Error\"))\n",
        "    errores, aproximaciones = [], [x0]\n",
        "\n",
        "    for i in range(maxIter):\n",
        "        fx0 = f(x0)\n",
        "        fpx = derivada(f, x0)\n",
        "        fppx = segundaDerivada(f, x0)\n",
        "\n",
        "        if fppx == 0:\n",
        "            print(\"Segunda derivada nula, no se puede continuar\")\n",
        "            break\n",
        "\n",
        "        x1 = x0 - fpx / fppx\n",
        "        error = abs(x1 - x0)\n",
        "        errores.append(error)\n",
        "        print(\"{:<10}{:<15.6f}{:<15.6f}{:<15.6f}{:<15.6f}{:<15.6f}\".format(\n",
        "            i + 1, x0, fx0, fpx, fppx, error))\n",
        "        aproximaciones.append(x1)\n",
        "\n",
        "        if error < tol:\n",
        "            break\n",
        "        x0 = x1\n",
        "\n",
        "    return aproximaciones, errores"
      ],
      "metadata": {
        "id": "nmx3PSKzBnAS"
      },
      "execution_count": null,
      "outputs": []
    },
    {
      "cell_type": "markdown",
      "source": [
        "El código para las gráficas de la función y del error"
      ],
      "metadata": {
        "id": "M8d4wRd8B0Rp"
      }
    },
    {
      "cell_type": "code",
      "source": [
        "def graficar(f, aproximaciones, errores):\n",
        "    fig, axs = plt.subplots(2, 1, figsize = (8, 8))\n",
        "\n",
        "    # Grafica de la funcion\n",
        "    xVals = np.linspace(-10, 20, 400)\n",
        "    yVals = [f(x) for x in xVals]\n",
        "    axs[0].plot(xVals, yVals, label=\"f(x)\")\n",
        "    axs[0].axhline(0, color=\"black\", linewidth=0.8)\n",
        "    axs[0].scatter(aproximaciones, [f(x) for x in aproximaciones], color=\"blue\", label=\"Aproximaciones\")\n",
        "    xOpt = aproximaciones[-1]\n",
        "    yOpt = f(xOpt)\n",
        "    axs[0].scatter([xOpt], [yOpt], color=\"green\", s=100, zorder=5, label=\"Óptimo\")\n",
        "    axs[0].annotate(f\"({xOpt:.4f}, {yOpt:.4f})\", (xOpt, yOpt),\n",
        "                    textcoords=\"offset points\", xytext=(10, 10), fontsize=9, color=\"green\")\n",
        "    axs[0].set_title(\"Funcion\")\n",
        "    axs[0].legend()\n",
        "\n",
        "    # Grafica del error\n",
        "    axs[1].plot(range(1, len(errores) + 1), errores, \"bs-\")\n",
        "    axs[1].set_title(\"Errores\")\n",
        "    axs[1].set_xlabel(\"Iteracion\")\n",
        "    axs[1].set_ylabel(\"Error\")\n",
        "\n",
        "    plt.tight_layout()\n",
        "    plt.show()"
      ],
      "metadata": {
        "id": "l58DxETXB-v-"
      },
      "execution_count": null,
      "outputs": []
    },
    {
      "cell_type": "code",
      "source": [
        "# ******************\n",
        "# Programa principal\n",
        "# ******************\n",
        "if __name__ == \"__main__\":\n",
        "    expr = input(\"Ingrese la funcion (Ejemplo: 2*sin(x) - x**2/10): \")\n",
        "    f = crearFuncion(expr)\n",
        "    x0 = float(input(\"Ingrese el valor inicial x0: \"))\n",
        "\n",
        "    aproximaciones, errores = metodoNewtonRaphson(f, x0)\n",
        "    graficar(f, aproximaciones, errores)"
      ],
      "metadata": {
        "id": "WbIPj_EnCGWI"
      },
      "execution_count": null,
      "outputs": []
    },
    {
      "cell_type": "markdown",
      "source": [
        "# Método de Búsqueda Aleatoria\n",
        "\n",
        "Es un método estocástico de optimización en el que se prueban puntos aleatorios en un dominio dado.\n",
        "\n",
        "Los pasos que se desarrolla son los siguientes:\n",
        "1. Generar puntos aleatorios en el dominio.\n",
        "2. Evaluar la función en cada punto.\n",
        "3. Guardar el mejor valor encontrado.\n",
        "4. Repetir por varias iteraciones.\n",
        "\n",
        "Las ecuaciones son las siguientes:\n",
        "\n",
        "Para x:\n",
        "$$\n",
        "x = x_{l} + (x_{u} - x_{l})r\n",
        "$$\n",
        "\n",
        "Para y:\n",
        "$$\n",
        "x = y_{l} + (y_{u} - y_{l})r\n",
        "$$\n",
        "\n",
        "r es el número generado aleatoriamente"
      ],
      "metadata": {
        "id": "Mj54hLecCY3s"
      }
    },
    {
      "cell_type": "markdown",
      "source": [
        "# Código en Python"
      ],
      "metadata": {
        "id": "ccgC7Fd3E_Ut"
      }
    },
    {
      "cell_type": "code",
      "source": [
        "import math\n",
        "import random\n",
        "import matplotlib.pyplot as plt\n",
        "import numpy as np\n",
        "import matplotlib as slt\n",
        "from PIL.ImageChops import offset\n",
        "from mpl_toolkits.mplot3d import Axes3D\n",
        "\n",
        "# =======================\n",
        "# Evaluador de la funcion\n",
        "# =======================\n",
        "def crearFuncion(expr):\n",
        "    contexto = {k: getattr(math, k) for k in dir(math) if not k.startswith(\"__\")}\n",
        "    def f(x, y):\n",
        "        return eval(expr, {\"__builtins__\":{}}, {**contexto, \"x\":x, \"y\":y})\n",
        "    return f\n",
        "\n",
        "# ===============================\n",
        "# Metodo de la busqueda aleatoria\n",
        "# ===============================\n",
        "def busquedaAleatoria(expr, xl, xu, yl, yu, nIter, modo = \"max\"):\n",
        "    f = crearFuncion(expr)\n",
        "\n",
        "    if modo == \"max\":\n",
        "        mejor = float(\"-inf\")\n",
        "    else:\n",
        "        mejor = float(\"inf\")\n",
        "\n",
        "    mejorx, mejory = None, None\n",
        "\n",
        "    print(f\"{'iter':<10}{'x':<15}{'y':<15}{'f(x, y):<15'}\")\n",
        "\n",
        "    xs, ys, fs = [], [], []\n",
        "\n",
        "    for i in range(nIter + 1):\n",
        "        x = xl + (xu - xl) * random.random()\n",
        "        y = yl + (yu - yl) * random.random()\n",
        "        val = f(x, y)\n",
        "\n",
        "        xs.append(x)\n",
        "        ys.append(y)\n",
        "        fs.append(val)\n",
        "\n",
        "        print(f\"{i:<10}{x:<15.6}{y:<15.6}{val:<15.6}\")\n",
        "\n",
        "        if modo == \"max\":\n",
        "            if val > mejor:\n",
        "                mejor, mejorx, mejory = val, x, y\n",
        "            else: # Modo \"min\"\n",
        "                if val < mejor:\n",
        "                    mejor, mejorx, mejory = val, x, y\n",
        "\n",
        "    return mejorx, mejory, mejor, xs, ys, fs\n"
      ],
      "metadata": {
        "id": "LKvBtKOoFF_n"
      },
      "execution_count": null,
      "outputs": []
    },
    {
      "cell_type": "markdown",
      "source": [
        "Para graficar"
      ],
      "metadata": {
        "id": "8hzGfAtUFOzi"
      }
    },
    {
      "cell_type": "code",
      "source": [
        "def graficar(expr, xl, xu, yl, yu, xs, ys, fs, mejorx, mejory, mejor, modo):\n",
        "    f = crearFuncion(expr)\n",
        "\n",
        "    X = np.linspace(xl, xu, 100)\n",
        "    Y = np.linspace(yl, yu, 100)\n",
        "    X, Y = np.meshgrid(X, Y)\n",
        "    Z = f(X, Y)\n",
        "\n",
        "    fig = plt.figure(figsize=(10,6))\n",
        "    ax = fig.add_subplot(111, projection=\"3d\")\n",
        "\n",
        "    # Superficie\n",
        "    ax.plot_surface(X, Y, Z, cmap = \"viridis\", alpha=0.7)\n",
        "\n",
        "    # Aproximaciones\n",
        "    ax.scatter(xs, ys, fs, color = \"red\", label = \"Aproximaciones\")\n",
        "\n",
        "    # Optimo encontrado\n",
        "    opt_label = \"Maximo\" if modo == \"max\" else \"Minimo\"\n",
        "    ax.scatter(mejorx, mejory, mejor, color = \"green\", s = 100, marker = \"*\", label = f\"{opt_label} ≈ {mejor:.4f}\")\n",
        "\n",
        "    # Etiqueta del optimo en la grafica\n",
        "    offset_z = (max(Z.flatten()) - min(Z.flatten())) * 0.3\n",
        "    ax.text(mejorx, mejory, mejor + offset_z, f\"{opt_label}\\n({mejorx:.2f}, {mejory:.2f}, {mejor:.2f})\",\n",
        "            color = \"black\", fontsize = 10, ha = \"center\", va = \"bottom\", backgroundcolor = \"white\")\n",
        "    ax.plot([mejorx, mejorx], [mejory, mejory], [mejor, mejor + 2], color = \"black\", linestyle = \"--\")\n",
        "\n",
        "    ax.set_title(\"Funcion\")\n",
        "    ax.set_xlabel(\"x\")\n",
        "    ax.set_ylabel(\"y\")\n",
        "    ax.set_zlabel(\"f(x, y)\")\n",
        "    ax.legend()\n",
        "    plt.show()"
      ],
      "metadata": {
        "id": "7NrtZObaFUlz"
      },
      "execution_count": null,
      "outputs": []
    },
    {
      "cell_type": "code",
      "source": [
        "# ==================\n",
        "# Programa Principal\n",
        "# ==================\n",
        "if __name__ == \"__main__\":\n",
        "    expr = input(\"ingrese la funcion f(x, y): \")\n",
        "    xl = float(input(\"ingrese el limite inferior de x: \"))\n",
        "    xu = float(input(\"ingrese el limite superior de x: \"))\n",
        "    yl = float(input(\"ingrese el limite inferior de y: \"))\n",
        "    yu = float(input(\"ingrese el limite superior de y: \"))\n",
        "    nIter = int(input(\"ingrese el numero de iteraciones: \"))\n",
        "    modo = input(\"Desea maximizar o minimizar? (max/min): \").strip().lower()\n",
        "\n",
        "    mejorx, mejory, mejor, xs, ys, fs = busquedaAleatoria(expr, xl, xu, yl, yu, nIter, modo)\n",
        "    print(f\"\\n{('Maximo' if modo == 'max' else 'Minimo')} encontrado en x = {mejorx:.6f}, y = {mejory:.6f}, f(x, y) = {mejor:.6f}\")\n",
        "    graficar(expr, xl, xu, yl, yu, xs, ys, fs, mejorx, mejory, mejor, modo)"
      ],
      "metadata": {
        "id": "Tmh74eP-Fc5E"
      },
      "execution_count": null,
      "outputs": []
    }
  ]
}